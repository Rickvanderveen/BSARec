{
 "cells": [
  {
   "cell_type": "code",
   "execution_count": 11,
   "id": "8eb2452b",
   "metadata": {},
   "outputs": [],
   "source": [
    "from collections import Counter\n",
    "from itertools import chain\n",
    "import json\n",
    "import math\n",
    "from pathlib import Path\n",
    "from typing import Callable, Union\n",
    "\n",
    "import matplotlib.pyplot as plt\n",
    "import numpy as np\n",
    "import pandas as pd\n",
    "\n",
    "from dataset import DataMaps"
   ]
  },
  {
   "cell_type": "code",
   "execution_count": 12,
   "id": "7ceca017",
   "metadata": {},
   "outputs": [],
   "source": [
    "def compute_entropy(category_counts):\n",
    "    \"\"\"\n",
    "    Computes the entropy of a category distribution.\n",
    "\n",
    "    Args:\n",
    "        category_counts (dict): A dictionary with category names as keys and their counts as values.\n",
    "\n",
    "    Returns:\n",
    "        float: The entropy value.\n",
    "    \"\"\"\n",
    "    total = sum(category_counts.values())\n",
    "    entropy = 0.0\n",
    "\n",
    "    for count in category_counts.values():\n",
    "        if count == 0:\n",
    "            continue\n",
    "        p_i = count / total\n",
    "        entropy -= p_i * math.log2(p_i)\n",
    "\n",
    "    return entropy\n",
    "\n",
    "\n",
    "def entropy_of_predictions(\n",
    "    predictions_of_users: list[list[str]],\n",
    "    category_map: dict[str, str],\n",
    "    top_k: int = 6,\n",
    "    *,\n",
    "    multi_category: bool = False,\n",
    "):\n",
    "    \"\"\"\n",
    "    Computes the entropy of ranked predictions averaged over multiple users.\n",
    "\n",
    "    Args:\n",
    "        predictions_of_users (list[list[str]]): A list of users that each have a list of \n",
    "            predicted items as strings.\n",
    "\n",
    "        category_map (dict[str, str]): A dictionary with the mapping item2category.\n",
    "            Can be single and multi category.\n",
    "\n",
    "        top_k (int): The number of highest ranked predictions that are used.\n",
    "\n",
    "        multi_category (bool): Whether an item (a prediction) has multiple categories.\n",
    "\n",
    "    Returns:\n",
    "        float: The average entropy.\n",
    "    \"\"\"\n",
    "    total_entropy = 0\n",
    "\n",
    "    for user_predicition in predictions_of_users:\n",
    "        # Only keep the top k predictions\n",
    "        top_predictions = user_predicition[:top_k]\n",
    "        # Transform the predicted ids to the actual categories\n",
    "        categories_of_user_predictions = map(\n",
    "            lambda item_id: category_map[str(item_id)], top_predictions\n",
    "        )\n",
    "\n",
    "        if multi_category:\n",
    "            categories_of_user_predictions = list(\n",
    "                chain.from_iterable(categories_of_user_predictions)\n",
    "            )\n",
    "\n",
    "        category_counter = Counter(categories_of_user_predictions)\n",
    "        entropy = compute_entropy(category_counter)\n",
    "        total_entropy += entropy\n",
    "\n",
    "    avg_entropy = total_entropy / len(predictions_of_users)\n",
    "\n",
    "    # TODO: Remove this and put it somewhere else. Not in this function\n",
    "    print(f\"Average Entropy for Top-{top_k} recommendations: {avg_entropy}\")\n",
    "    return avg_entropy"
   ]
  },
  {
   "cell_type": "code",
   "execution_count": 13,
   "id": "dc28cdf5",
   "metadata": {},
   "outputs": [],
   "source": [
    "def prediction_str2prediction_list(string: str, sep: str = \", \"):\n",
    "    return string.split(sep)"
   ]
  },
  {
   "cell_type": "code",
   "execution_count": 14,
   "id": "ec9425d3",
   "metadata": {},
   "outputs": [],
   "source": [
    "PROJECT_ROOT = Path()\n",
    "PREDICTION_DIR = PROJECT_ROOT / \"output\" / \"predictions\"\n",
    "DATA_DIR = PROJECT_ROOT / \"data\"\n",
    "CATEGORY_MAP_DIR = DATA_DIR / \"category_maps\"\n",
    "DATA_MAP_DIR = DATA_DIR / \"self_processed\" / \"data_maps\"\n",
    "RAW_DATA_DIR = DATA_DIR / \"raw\""
   ]
  },
  {
   "cell_type": "code",
   "execution_count": 15,
   "id": "088c4c23",
   "metadata": {},
   "outputs": [],
   "source": [
    "# All paths to the saved predictions\n",
    "bsarec_beauty_predictions_path = PREDICTION_DIR / \"BSARec_Beauty_best_predictions.csv\"\n",
    "bsarec_ml1m_predictions_path = PREDICTION_DIR / \"BSARec_ML-1M_predictions.csv\"\n",
    "\n",
    "sasrec_lastfm_predictions_path = PREDICTION_DIR / \"SASRec_LastFM_predictions.csv\"\n",
    "bert4rec_lastfm_predictions_path = PREDICTION_DIR / \"BERT4Rec_LastFM_predictions.csv\"\n",
    "duorec_lastfm_predictions_path = PREDICTION_DIR / \"DuoRec_LastFM_predictions.csv\"\n",
    "fearec_lastfm_predictions_path = PREDICTION_DIR / \"FEARec_LastFM_predictions.csv\"\n",
    "bsarec_lastfm_predictions_path = PREDICTION_DIR / \"BSARec_LastFM_predictions.csv\"\n",
    "\n",
    "sasrec_diginetica_predictions_path = PREDICTION_DIR / \"SASRec_Diginetica_predictions.csv\"\n",
    "bert4rec_diginetica_predictions_path = PREDICTION_DIR / \"BERT4Rec_Diginetica_predictions.csv\"\n",
    "duorec_diginetica_predictions_path = PREDICTION_DIR / \"DuoRec_Diginetica_predictions.csv\"\n",
    "fearec_diginetica_predictions_path = PREDICTION_DIR / \"FEARec_Diginetica_predictions.csv\"\n",
    "bsarec_diginetica_predictions_path = PREDICTION_DIR / \"BSARec_Diginetica_predictions.csv\""
   ]
  },
  {
   "cell_type": "code",
   "execution_count": 16,
   "id": "15429c88",
   "metadata": {},
   "outputs": [],
   "source": [
    "# The paths to the category maps e.g. \"artist 1\" -> \"Rock\"\n",
    "lastfm_category_map_path = CATEGORY_MAP_DIR / \"LastFM\" / \"artist_category_mapping.json\"\n",
    "lastfm_popularity_map_path = CATEGORY_MAP_DIR / \"LastFM\" / \"artist_popularity_mapping.json\"\n",
    "\n",
    "ml1m_category_map_path = CATEGORY_MAP_DIR / \"ml-1m\" / \"movie_category_mapping.json\"\n",
    "\n",
    "diginetica_category_map_path = CATEGORY_MAP_DIR / \"Diginetica\" / \"product_category_mapping.json\"\n",
    "diginetica_popularity_map_path = CATEGORY_MAP_DIR / \"Diginetica\" / \"product_popularity_mapping.json\"\n",
    "\n",
    "def load_category_map(path: Path):\n",
    "    \"\"\"Load a category map from a path.\n",
    "    \n",
    "    Returns a dict with the mapping from item2category. Can be single and multiple categories.\n",
    "    \"\"\"\n",
    "    with path.open(\"r\", newline=\"\", encoding=\"utf-8\") as file:\n",
    "        return json.load(file)"
   ]
  },
  {
   "cell_type": "code",
   "execution_count": 17,
   "id": "d846a274",
   "metadata": {},
   "outputs": [],
   "source": [
    "# The data maps are the user2id, id2user, item2id, id2item for each dataset\n",
    "beauty_data_maps_path = DATA_MAP_DIR / \"Beauty_maps.json\"\n",
    "ml1m_data_maps_path = DATA_MAP_DIR / \"ML-1M_maps.json\"\n",
    "lastfm_data_maps_path = DATA_MAP_DIR / \"LastFM_maps.json\"    \n",
    "diginetica_data_maps_path = DATA_MAP_DIR / \"Diginetica_maps.json\""
   ]
  },
  {
   "cell_type": "code",
   "execution_count": 18,
   "id": "68de22bf",
   "metadata": {},
   "outputs": [],
   "source": [
    "def load_predictions(prediction_path: Path, prediction_id2item_id: Callable) -> list[list[Union[str, int]]]:\n",
    "    users_item_id_predictions = pd.read_csv(prediction_path)\n",
    "    users_item_id_predictions[\"item_id_predictions\"] = users_item_id_predictions[\"item_id_predictions\"].apply(prediction_str2prediction_list)\n",
    "    item_predictions = users_item_id_predictions[\"item_id_predictions\"].apply(lambda sequence: list(map(prediction_id2item_id, sequence)))\n",
    "    return list(item_predictions)\n",
    "\n",
    "def load_user_and_predictions(prediction_path: Path) -> dict[int, list]:\n",
    "    users_item_id_predictions = pd.read_csv(prediction_path)\n",
    "    # Transform the prediction from 1 string to a list of predicted items\n",
    "    users_item_id_predictions[\"item_id_predictions\"] = users_item_id_predictions[\"item_id_predictions\"].apply(prediction_str2prediction_list)\n",
    "    # Transform items in the list from string to int\n",
    "    users_item_id_predictions[\"item_id_predictions\"] = users_item_id_predictions[\"item_id_predictions\"].apply(lambda x: [int(item) for item in x])\n",
    "    return {row.user_id: row.item_id_predictions for row in users_item_id_predictions.itertuples()}"
   ]
  },
  {
   "cell_type": "markdown",
   "id": "4825a285",
   "metadata": {},
   "source": [
    "### Dataset: LastFM"
   ]
  },
  {
   "cell_type": "code",
   "execution_count": 19,
   "id": "913f24ab",
   "metadata": {},
   "outputs": [],
   "source": [
    "# Load LastFM data maps\n",
    "lastfm_data_maps = DataMaps.read_json(lastfm_data_maps_path)\n",
    "\n",
    "# Load lastfm artist -> genre map\n",
    "artist_category_map = load_category_map(lastfm_category_map_path)\n",
    "# Load lastfm artist -> popularity map\n",
    "artist_popularity_map = load_category_map(lastfm_popularity_map_path)\n",
    "\n",
    "# Load predictions from specific models\n",
    "sasrec_artist_id_predictions = load_predictions(sasrec_lastfm_predictions_path, lastfm_data_maps.id2item)\n",
    "bert4rec_artist_id_predictions = load_predictions(bert4rec_lastfm_predictions_path, lastfm_data_maps.id2item)\n",
    "duorec_artist_id_predictions = load_predictions(duorec_lastfm_predictions_path, lastfm_data_maps.id2item)\n",
    "fearec_artist_id_predictions = load_predictions(fearec_lastfm_predictions_path, lastfm_data_maps.id2item)\n",
    "bsarec_artist_id_predictions = load_predictions(bsarec_lastfm_predictions_path, lastfm_data_maps.id2item)\n"
   ]
  },
  {
   "cell_type": "markdown",
   "id": "96224558",
   "metadata": {},
   "source": [
    "#### Entropy for genres"
   ]
  },
  {
   "cell_type": "code",
   "execution_count": 20,
   "id": "20a28df2",
   "metadata": {},
   "outputs": [
    {
     "name": "stdout",
     "output_type": "stream",
     "text": [
      "SASRec  : Average Entropy for Top-6 recommendations: 1.2670683863614731\n",
      "BERT4Rec: Average Entropy for Top-6 recommendations: 1.1072985660877441\n",
      "DuoRec  : Average Entropy for Top-6 recommendations: 1.253751216741057\n",
      "FEARec  : Average Entropy for Top-6 recommendations: 1.1707431976214442\n",
      "BSARec  : Average Entropy for Top-6 recommendations: 1.2099782541054578\n"
     ]
    }
   ],
   "source": [
    "print(\"SASRec\".ljust(8) + \": \", end=\"\")\n",
    "_ = entropy_of_predictions(sasrec_artist_id_predictions, artist_category_map)\n",
    "print(\"BERT4Rec\".ljust(8) + \": \", end=\"\")\n",
    "_ = entropy_of_predictions(bert4rec_artist_id_predictions, artist_category_map)\n",
    "print(\"DuoRec\".ljust(8) + \": \", end=\"\")\n",
    "_ = entropy_of_predictions(duorec_artist_id_predictions, artist_category_map)\n",
    "print(\"FEARec\".ljust(8) + \": \", end=\"\")\n",
    "_ = entropy_of_predictions(fearec_artist_id_predictions, artist_category_map)\n",
    "print(\"BSARec\".ljust(8) + \": \", end=\"\")\n",
    "_ = entropy_of_predictions(bsarec_artist_id_predictions, artist_category_map)"
   ]
  },
  {
   "cell_type": "markdown",
   "id": "bf87a76d",
   "metadata": {},
   "source": [
    "#### Entropy for popularity"
   ]
  },
  {
   "cell_type": "code",
   "execution_count": 21,
   "id": "cec39178",
   "metadata": {},
   "outputs": [
    {
     "name": "stdout",
     "output_type": "stream",
     "text": [
      "SASRec  : Average Entropy for Top-6 recommendations: 0.2992227789817737\n",
      "BERT4Rec: Average Entropy for Top-6 recommendations: 0.3027601122329626\n",
      "DuoRec  : Average Entropy for Top-6 recommendations: 0.31432314029948505\n",
      "FEARec  : Average Entropy for Top-6 recommendations: 0.0\n",
      "BSARec  : Average Entropy for Top-6 recommendations: 0.4110179137380286\n"
     ]
    }
   ],
   "source": [
    "print(\"SASRec\".ljust(8) + \": \", end=\"\")\n",
    "_ = entropy_of_predictions(sasrec_artist_id_predictions, artist_popularity_map)\n",
    "print(\"BERT4Rec\".ljust(8) + \": \", end=\"\")\n",
    "_ = entropy_of_predictions(bert4rec_artist_id_predictions, artist_popularity_map)\n",
    "print(\"DuoRec\".ljust(8) + \": \", end=\"\")\n",
    "_ = entropy_of_predictions(duorec_artist_id_predictions, artist_popularity_map)\n",
    "print(\"FEARec\".ljust(8) + \": \", end=\"\")\n",
    "_ = entropy_of_predictions(fearec_artist_id_predictions, artist_popularity_map)\n",
    "print(\"BSARec\".ljust(8) + \": \", end=\"\")\n",
    "_ = entropy_of_predictions(bsarec_artist_id_predictions, artist_popularity_map)"
   ]
  },
  {
   "cell_type": "markdown",
   "id": "b741fc51",
   "metadata": {},
   "source": [
    "### Dataset: ML-1M"
   ]
  },
  {
   "cell_type": "code",
   "execution_count": 22,
   "id": "57593e3a",
   "metadata": {},
   "outputs": [],
   "source": [
    "# Load ML-1M data maps\n",
    "ml1m_data_maps = DataMaps.read_json(ml1m_data_maps_path)\n",
    "\n",
    "# Load ML-1M movie -> genres map\n",
    "movie_category_map = load_category_map(ml1m_category_map_path)\n",
    "\n",
    "\n",
    "# Load predictions from specific models\n",
    "sasrec_movie_id_predictions = ...\n",
    "bert4rec_movie_id_predictions = ...\n",
    "duorec_movie_id_predictions = ...\n",
    "fearec_movie_id_predictions = ...\n",
    "bsarec_movie_id_predictions = load_predictions(bsarec_ml1m_predictions_path, ml1m_data_maps.id2item)"
   ]
  },
  {
   "cell_type": "markdown",
   "id": "ac3d1e0c",
   "metadata": {},
   "source": [
    "#### Entropy for movie categories"
   ]
  },
  {
   "cell_type": "code",
   "execution_count": 23,
   "id": "8aceef4e",
   "metadata": {},
   "outputs": [
    {
     "name": "stdout",
     "output_type": "stream",
     "text": [
      "Average Entropy for Top-6 recommendations: 2.0451340462138994\n"
     ]
    }
   ],
   "source": [
    "_ = entropy_of_predictions(bsarec_movie_id_predictions, movie_category_map, multi_category=True)"
   ]
  },
  {
   "cell_type": "markdown",
   "id": "966d1a43",
   "metadata": {},
   "source": [
    "### Dataset: Diginetica"
   ]
  },
  {
   "cell_type": "code",
   "execution_count": 24,
   "id": "9c0298fe",
   "metadata": {},
   "outputs": [],
   "source": [
    "# Load Diginetica data maps\n",
    "diginetica_data_maps = DataMaps.read_json(diginetica_data_maps_path)\n",
    "\n",
    "# Load Diginetica product-category map\n",
    "diginetica_category_map = load_category_map(diginetica_category_map_path)\n",
    "# Load Diginetica product-popularity map\n",
    "diginetica_popularity_map = load_category_map(diginetica_popularity_map_path)\n",
    "\n",
    "\n",
    "# Load predictions from specific models\n",
    "sasrec_diginetica_predictions = load_predictions(sasrec_diginetica_predictions_path, diginetica_data_maps.id2item)\n",
    "bert4rec_diginetica_predictions = load_predictions(bert4rec_diginetica_predictions_path, diginetica_data_maps.id2item)\n",
    "duorec_diginetica_predictions = load_predictions(duorec_diginetica_predictions_path, diginetica_data_maps.id2item)\n",
    "fearec_diginetica_predictions = load_predictions(fearec_diginetica_predictions_path, diginetica_data_maps.id2item)\n",
    "bsarec_diginetica_predictions = load_predictions(bsarec_diginetica_predictions_path, diginetica_data_maps.id2item)"
   ]
  },
  {
   "cell_type": "markdown",
   "id": "2ff0a19b",
   "metadata": {},
   "source": [
    "#### Entropy for product categories"
   ]
  },
  {
   "cell_type": "code",
   "execution_count": 25,
   "id": "fff6f852",
   "metadata": {},
   "outputs": [
    {
     "name": "stdout",
     "output_type": "stream",
     "text": [
      "SASRec  : Average Entropy for Top-6 recommendations: 0.25902111779595344\n",
      "BERT4Rec: Average Entropy for Top-6 recommendations: 0.2780391710104607\n",
      "DuoRec  : Average Entropy for Top-6 recommendations: 0.17680181674497952\n",
      "FEARec  : Average Entropy for Top-6 recommendations: 0.17924620220674636\n",
      "BSARec  : Average Entropy for Top-6 recommendations: 0.17989211410186284\n"
     ]
    }
   ],
   "source": [
    "print(\"SASRec\".ljust(8) + \": \", end=\"\")\n",
    "_ = entropy_of_predictions(sasrec_diginetica_predictions, diginetica_category_map)\n",
    "print(\"BERT4Rec\".ljust(8) + \": \", end=\"\")\n",
    "_ = entropy_of_predictions(bert4rec_diginetica_predictions, diginetica_category_map)\n",
    "print(\"DuoRec\".ljust(8) + \": \", end=\"\")\n",
    "_ = entropy_of_predictions(duorec_diginetica_predictions, diginetica_category_map)\n",
    "print(\"FEARec\".ljust(8) + \": \", end=\"\")\n",
    "_ = entropy_of_predictions(fearec_diginetica_predictions, diginetica_category_map)\n",
    "print(\"BSARec\".ljust(8) + \": \", end=\"\")\n",
    "_ = entropy_of_predictions(bsarec_diginetica_predictions, diginetica_category_map)"
   ]
  },
  {
   "cell_type": "markdown",
   "id": "4015f22a",
   "metadata": {},
   "source": [
    "#### Entropy for product popularity"
   ]
  },
  {
   "cell_type": "code",
   "execution_count": 26,
   "id": "479146e0",
   "metadata": {},
   "outputs": [
    {
     "name": "stdout",
     "output_type": "stream",
     "text": [
      "SASRec  : "
     ]
    },
    {
     "name": "stdout",
     "output_type": "stream",
     "text": [
      "Average Entropy for Top-6 recommendations: 0.03719206026774097\n",
      "BERT4Rec: Average Entropy for Top-6 recommendations: 0.06733702983596924\n",
      "DuoRec  : Average Entropy for Top-6 recommendations: 0.057751826756835316\n",
      "FEARec  : Average Entropy for Top-6 recommendations: 0.06913320587150608\n",
      "BSARec  : Average Entropy for Top-6 recommendations: 0.06626068329660079\n"
     ]
    }
   ],
   "source": [
    "print(\"SASRec\".ljust(8) + \": \", end=\"\")\n",
    "_ = entropy_of_predictions(sasrec_diginetica_predictions, diginetica_popularity_map)\n",
    "print(\"BERT4Rec\".ljust(8) + \": \", end=\"\")\n",
    "_ = entropy_of_predictions(bert4rec_diginetica_predictions, diginetica_popularity_map)\n",
    "print(\"DuoRec\".ljust(8) + \": \", end=\"\")\n",
    "_ = entropy_of_predictions(duorec_diginetica_predictions, diginetica_popularity_map)\n",
    "print(\"FEARec\".ljust(8) + \": \", end=\"\")\n",
    "_ = entropy_of_predictions(fearec_diginetica_predictions, diginetica_popularity_map)\n",
    "print(\"BSARec\".ljust(8) + \": \", end=\"\")\n",
    "_ = entropy_of_predictions(bsarec_diginetica_predictions, diginetica_popularity_map)"
   ]
  },
  {
   "cell_type": "markdown",
   "id": "20710de2",
   "metadata": {},
   "source": [
    "## Fairness"
   ]
  },
  {
   "cell_type": "code",
   "execution_count": 27,
   "id": "744e34a5",
   "metadata": {},
   "outputs": [],
   "source": [
    "class RankBiasedPrecision:\n",
    "    def __init__(self, patience: float = 0.5):\n",
    "        self.patience = patience\n",
    "\n",
    "    def exposure(self, position: int) -> float:\n",
    "        return self.patience ** position\n",
    "\n",
    "    def ideal(self, number_of_recommendations: int):\n",
    "        m = number_of_recommendations\n",
    "        num = 1 - self.patience ** m\n",
    "        den = m * (1 - self.patience)\n",
    "        return np.full(m, num/den)\n",
    "\n",
    "\n",
    "class Cascade:\n",
    "    def __init__(self, patience: float = 0.5, stop_prob: float = 0.5):\n",
    "        self.patience = patience\n",
    "        self.stop_prob = stop_prob\n",
    "    \n",
    "    def exposure(self, positions: np.ndarray, item_rating: np.ndarray) -> float:\n",
    "        left = self.patience ** positions\n",
    "        right = 1 - (item_rating * self.stop_prob)\n",
    "        exposure = left * right.cumprod()\n",
    "        return exposure\n",
    "    \n",
    "    def ideal(self, number_of_recommendations: int):\n",
    "        m = number_of_recommendations\n",
    "        num = 1 - self.patience ** m * (1 - self.stop_prob) ** m\n",
    "        den = m * (1 - self.patience * (1 - self.stop_prob))\n",
    "        return np.full(m, num / den)"
   ]
  },
  {
   "cell_type": "code",
   "execution_count": 28,
   "id": "04c0cf3f",
   "metadata": {},
   "outputs": [],
   "source": [
    "rbp = RankBiasedPrecision()\n",
    "cascade = Cascade()"
   ]
  },
  {
   "cell_type": "code",
   "execution_count": 29,
   "id": "490df526",
   "metadata": {},
   "outputs": [],
   "source": [
    "def load_raw_diginetica() -> pd.DataFrame:\n",
    "    data_path = RAW_DATA_DIR / \"Diginetica\" / \"diginetica_train.csv\"\n",
    "    df = pd.read_csv(data_path, delimiter=\";\", header=0, names=[\"userId\", \"itemId\", \"timeframe\", \"eventdate\"])\n",
    "\n",
    "    # Drop all users which are nan\n",
    "    df = df.dropna(subset=[\"userId\", \"itemId\", \"timeframe\", \"eventdate\"])\n",
    "    \n",
    "    return df\n",
    "\n",
    "def load_preprocessed_dataset(data_path: Path) -> dict[int, list[int]]:\n",
    "    data = {}\n",
    "    with data_path.open(\"r\", encoding=\"utf-8\", newline=\"\") as file:\n",
    "        for line in file:\n",
    "            user, items = line.split(\" \", maxsplit=1)\n",
    "            user = int(user)\n",
    "            items = items.split(\" \")\n",
    "            items = list(map(lambda item: int(item.strip()), items))\n",
    "            assert user not in data, \"User should not exist twice in the dictionary\"\n",
    "            data[user] = items\n",
    "    return data"
   ]
  },
  {
   "cell_type": "code",
   "execution_count": 30,
   "id": "9c667884",
   "metadata": {},
   "outputs": [],
   "source": [
    "lastfm = load_preprocessed_dataset(DATA_DIR / \"LastFM.txt\")\n",
    "diginetica = load_preprocessed_dataset(DATA_DIR / \"self_processed\" / \"Diginetica.txt\")\n",
    "\n",
    "sasrec_lastfm_user_and_predictions = load_user_and_predictions(sasrec_lastfm_predictions_path)\n",
    "bert4rec_lastfm_user_and_predictions = load_user_and_predictions(bert4rec_lastfm_predictions_path)\n",
    "duorec_lastfm_user_and_predictions = load_user_and_predictions(duorec_lastfm_predictions_path)\n",
    "fearec_lastfm_user_and_predictions = load_user_and_predictions(fearec_lastfm_predictions_path)\n",
    "bsarec_lastfm_user_and_predictions = load_user_and_predictions(bsarec_lastfm_predictions_path)\n",
    "\n",
    "sasrec_diginetica_user_and_predictions = load_user_and_predictions(sasrec_diginetica_predictions_path)\n",
    "bert4rec_diginetica_user_and_predictions = load_user_and_predictions(bert4rec_diginetica_predictions_path)\n",
    "duorec_diginetica_user_and_predictions = load_user_and_predictions(duorec_diginetica_predictions_path)\n",
    "fearec_diginetica_user_and_predictions = load_user_and_predictions(fearec_diginetica_predictions_path)\n",
    "bsarec_diginetica_user_and_predictions = load_user_and_predictions(bsarec_diginetica_predictions_path)\n"
   ]
  },
  {
   "cell_type": "code",
   "execution_count": 31,
   "id": "bdc277a8",
   "metadata": {},
   "outputs": [],
   "source": [
    "class ExposureFairness:\n",
    "    def __init__(self, user_and_predictions: dict[int, list[int]]):\n",
    "        self.user_and_predictions = user_and_predictions\n",
    "\n",
    "    def group_exposure(self, category_map: dict[str, str], dataset, id2item) -> dict[str, float]:\n",
    "        \"\"\"Calculate the exposure per group user cascade attention.\"\"\"\n",
    "        categories = set(category_map.values())\n",
    "        exposure_per_group = dict.fromkeys(categories, 0)\n",
    "\n",
    "        # Go through the users\n",
    "        for user, predictions in self.user_and_predictions.items():\n",
    "            # User id in predictions start at 0. User id in datasets start a 1\n",
    "            user += 1\n",
    "            ratings = []\n",
    "            ranks = []\n",
    "            user_final_item = dataset[user][-1]\n",
    "\n",
    "            # Go over each item of the top-k recommendations\n",
    "            for rank, item in enumerate(predictions):\n",
    "                # The rank is the position of the item in the top-k\n",
    "                ranks.append(rank)\n",
    "                # The rating of an item corresponds to whether the predicted item is correct\n",
    "                rating = 1 if item == user_final_item else 0\n",
    "                ratings.append(rating)\n",
    "\n",
    "            # Calculate the exposure of each recommendation\n",
    "            exposures = cascade.exposure(np.array(ranks), np.array(ratings))\n",
    "            # Assign the exposure of an item to its corresponding group\n",
    "            for item, exposure in zip(predictions, exposures):\n",
    "                real_item_id = id2item(str(item))\n",
    "                item_category = category_map[str(real_item_id)]\n",
    "                exposure_per_group[item_category] += exposure\n",
    "        \n",
    "        # Average the exposure of the number of users\n",
    "        for group, exposure in exposure_per_group.items():\n",
    "            exposure_per_group[group] = exposure / user\n",
    "\n",
    "        return exposure_per_group\n",
    "    \n",
    "    def ideal_group_exposure(self, category_map: dict[str, str], dataset, id2item) -> dict[str, float]:\n",
    "        categories = set(category_map.values())\n",
    "        exposure_per_group = dict.fromkeys(categories, 0)\n",
    "\n",
    "        for user, predictions in dataset.items():\n",
    "            # User the sequence except for the last two items to use only training data.\n",
    "            # The second to last item is the validation target. The last is the test target.\n",
    "            predictions = predictions[:-2]\n",
    "\n",
    "            ideal_exposure = cascade.ideal(len(predictions))\n",
    "            for item, exposure in zip(predictions, ideal_exposure):\n",
    "                real_item_id = id2item(str(item))\n",
    "                item_category = category_map[str(real_item_id)]\n",
    "                exposure_per_group[item_category] += exposure\n",
    "        \n",
    "        # Average the exposure of the number of users\n",
    "        for group, exposure in exposure_per_group.items():\n",
    "            exposure_per_group[group] = exposure / user\n",
    "        \n",
    "        return exposure_per_group\n",
    "\n",
    "\n",
    "    def eed(self, category_map: dict[str, str], dataset, id2item) -> float:\n",
    "        exposure = self.group_exposure(category_map, dataset, id2item)\n",
    "        exposure = np.array(list(exposure.values()))\n",
    "        exposure_distribution = np.sum(exposure ** 2)\n",
    "        return exposure_distribution\n",
    "    \n",
    "    def eel(self, category_map: dict[str, str], dataset, id2item) -> float:\n",
    "        exposure = self.group_exposure(category_map, dataset, id2item)\n",
    "        exposure = np.array(list(exposure.values()))\n",
    "\n",
    "        ideal_exposure = self.ideal_group_exposure(category_map, dataset, id2item)\n",
    "        ideal_exposure = np.array(list(ideal_exposure.values()))\n",
    "        \n",
    "        exposure_difference = exposure - ideal_exposure\n",
    "        return np.sum(exposure_difference ** 2)\n",
    "    \n",
    "    def eer(self, category_map: dict[str, str], dataset, id2item) -> float:\n",
    "        exposure = self.group_exposure(category_map, dataset, id2item)\n",
    "        exposure = np.array(list(exposure.values()))\n",
    "\n",
    "        ideal_exposure = self.ideal_group_exposure(category_map, dataset, id2item)\n",
    "        ideal_exposure = np.array(list(ideal_exposure.values()))\n",
    "        \n",
    "        return 2 * np.dot(exposure, ideal_exposure)\n",
    "\n",
    "        "
   ]
  },
  {
   "cell_type": "code",
   "execution_count": 32,
   "id": "7e589be1",
   "metadata": {},
   "outputs": [],
   "source": [
    "names = [\"SASRec\", \"BERT4Rec\", \"DuoRec\", \"FEARec\", \"BSARec\"]"
   ]
  },
  {
   "cell_type": "code",
   "execution_count": 33,
   "id": "946ffc6f",
   "metadata": {},
   "outputs": [],
   "source": [
    "class VisualFairnessResults:\n",
    "    def __init__(self, fairness_results: pd.DataFrame):\n",
    "        self.fairness_results = fairness_results\n",
    "    \n",
    "    def single_plot(self):\n",
    "        df = self.fairness_results.set_index('model')\n",
    "\n",
    "        # Plot grouped bars\n",
    "        ax = df.plot(kind='bar', figsize=(10, 6), width=0.75)\n",
    "        plt.title('Fairness Metrics by Model')\n",
    "        plt.ylabel('Metric Value')\n",
    "        plt.xticks(rotation=45)\n",
    "        plt.legend(title='Metric')\n",
    "        plt.grid(axis='y', linestyle='--', alpha=0.6)\n",
    "        plt.tight_layout()\n",
    "        plt.show()\n",
    "    \n",
    "    def metric_subplots(self):\n",
    "        metrics = ['EED', 'EEL', 'EER']\n",
    "\n",
    "        fig, axes = plt.subplots(1, 3, figsize=(15, 5), sharex=True)\n",
    "\n",
    "        for i, metric in enumerate(metrics):\n",
    "            axes[i].bar(self.fairness_results['model'], self.fairness_results[metric], color='skyblue')\n",
    "            axes[i].set_title(metric)\n",
    "            axes[i].set_ylabel('Value')\n",
    "            axes[i].tick_params(axis='x', rotation=45)\n",
    "            axes[i].grid(axis='y', linestyle='--', alpha=0.6)\n",
    "\n",
    "        fig.suptitle('Fairness Metrics by Model')\n",
    "        plt.tight_layout()\n",
    "        plt.show()\n",
    "\n"
   ]
  },
  {
   "cell_type": "code",
   "execution_count": 34,
   "id": "4216cfe8",
   "metadata": {},
   "outputs": [
    {
     "data": {
      "text/html": [
       "<div>\n",
       "<style scoped>\n",
       "    .dataframe tbody tr th:only-of-type {\n",
       "        vertical-align: middle;\n",
       "    }\n",
       "\n",
       "    .dataframe tbody tr th {\n",
       "        vertical-align: top;\n",
       "    }\n",
       "\n",
       "    .dataframe thead th {\n",
       "        text-align: right;\n",
       "    }\n",
       "</style>\n",
       "<table border=\"1\" class=\"dataframe\">\n",
       "  <thead>\n",
       "    <tr style=\"text-align: right;\">\n",
       "      <th></th>\n",
       "      <th>model</th>\n",
       "      <th>EED</th>\n",
       "      <th>EEL</th>\n",
       "      <th>EER</th>\n",
       "    </tr>\n",
       "  </thead>\n",
       "  <tbody>\n",
       "    <tr>\n",
       "      <th>0</th>\n",
       "      <td>SASRec</td>\n",
       "      <td>0.802175</td>\n",
       "      <td>0.092181</td>\n",
       "      <td>1.067289</td>\n",
       "    </tr>\n",
       "    <tr>\n",
       "      <th>1</th>\n",
       "      <td>BERT4Rec</td>\n",
       "      <td>0.813297</td>\n",
       "      <td>0.107303</td>\n",
       "      <td>1.063290</td>\n",
       "    </tr>\n",
       "    <tr>\n",
       "      <th>2</th>\n",
       "      <td>DuoRec</td>\n",
       "      <td>0.782381</td>\n",
       "      <td>0.083815</td>\n",
       "      <td>1.055862</td>\n",
       "    </tr>\n",
       "    <tr>\n",
       "      <th>3</th>\n",
       "      <td>FEARec</td>\n",
       "      <td>3.099744</td>\n",
       "      <td>2.381373</td>\n",
       "      <td>1.075666</td>\n",
       "    </tr>\n",
       "    <tr>\n",
       "      <th>4</th>\n",
       "      <td>BSARec</td>\n",
       "      <td>0.736664</td>\n",
       "      <td>0.069293</td>\n",
       "      <td>1.024667</td>\n",
       "    </tr>\n",
       "  </tbody>\n",
       "</table>\n",
       "</div>"
      ],
      "text/plain": [
       "      model       EED       EEL       EER\n",
       "0    SASRec  0.802175  0.092181  1.067289\n",
       "1  BERT4Rec  0.813297  0.107303  1.063290\n",
       "2    DuoRec  0.782381  0.083815  1.055862\n",
       "3    FEARec  3.099744  2.381373  1.075666\n",
       "4    BSARec  0.736664  0.069293  1.024667"
      ]
     },
     "metadata": {},
     "output_type": "display_data"
    },
    {
     "data": {
      "image/png": "[encoded data removed]",
      "text/plain": [
       "<Figure size 1500x500 with 3 Axes>"
      ]
     },
     "metadata": {},
     "output_type": "display_data"
    }
   ],
   "source": [
    "sasrec_artist_fairness = ExposureFairness(sasrec_lastfm_user_and_predictions)\n",
    "bert4rec_artist_fairness = ExposureFairness(bert4rec_lastfm_user_and_predictions)\n",
    "duorec_artist_fairness = ExposureFairness(duorec_lastfm_user_and_predictions)\n",
    "fearec_artist_fairness = ExposureFairness(fearec_lastfm_user_and_predictions)\n",
    "bsarec_artist_fairness = ExposureFairness(bsarec_lastfm_user_and_predictions)\n",
    "\n",
    "artist_recommend_exposure = [\n",
    "    sasrec_artist_fairness,\n",
    "    bert4rec_artist_fairness,\n",
    "    duorec_artist_fairness,\n",
    "    fearec_artist_fairness,\n",
    "    bsarec_artist_fairness,\n",
    "]\n",
    "\n",
    "lastfm_eed = []\n",
    "lastfm_eel = []\n",
    "lastfm_eer = []\n",
    "for model in artist_recommend_exposure:\n",
    "    eed = model.eed(artist_category_map, lastfm, lastfm_data_maps.id2item)\n",
    "    lastfm_eed.append(eed)\n",
    "\n",
    "    eel = model.eel(artist_category_map, lastfm, lastfm_data_maps.id2item)\n",
    "    lastfm_eel.append(eel)\n",
    "\n",
    "    eer = model.eer(artist_category_map, lastfm, lastfm_data_maps.id2item)\n",
    "    lastfm_eer.append(eer)\n",
    "    \n",
    "lastfm_fairness_data = {\n",
    "    \"model\": names,\n",
    "    \"EED\": lastfm_eed,\n",
    "    \"EEL\": lastfm_eel,\n",
    "    \"EER\": lastfm_eer,\n",
    "}\n",
    "lastfm_fairness = pd.DataFrame(lastfm_fairness_data)\n",
    "display(lastfm_fairness)\n",
    "\n",
    "lastfm_visual_results = VisualFairnessResults(lastfm_fairness)\n",
    "lastfm_visual_results.metric_subplots()"
   ]
  },
  {
   "cell_type": "code",
   "execution_count": 35,
   "id": "762272be",
   "metadata": {},
   "outputs": [
    {
     "data": {
      "text/html": [
       "<div>\n",
       "<style scoped>\n",
       "    .dataframe tbody tr th:only-of-type {\n",
       "        vertical-align: middle;\n",
       "    }\n",
       "\n",
       "    .dataframe tbody tr th {\n",
       "        vertical-align: top;\n",
       "    }\n",
       "\n",
       "    .dataframe thead th {\n",
       "        text-align: right;\n",
       "    }\n",
       "</style>\n",
       "<table border=\"1\" class=\"dataframe\">\n",
       "  <thead>\n",
       "    <tr style=\"text-align: right;\">\n",
       "      <th></th>\n",
       "      <th>model</th>\n",
       "      <th>EED</th>\n",
       "      <th>EEL</th>\n",
       "      <th>EER</th>\n",
       "    </tr>\n",
       "  </thead>\n",
       "  <tbody>\n",
       "    <tr>\n",
       "      <th>0</th>\n",
       "      <td>SASRec</td>\n",
       "      <td>0.077931</td>\n",
       "      <td>0.009433</td>\n",
       "      <td>0.101992</td>\n",
       "    </tr>\n",
       "    <tr>\n",
       "      <th>1</th>\n",
       "      <td>BERT4Rec</td>\n",
       "      <td>0.074954</td>\n",
       "      <td>0.008384</td>\n",
       "      <td>0.100064</td>\n",
       "    </tr>\n",
       "    <tr>\n",
       "      <th>2</th>\n",
       "      <td>DuoRec</td>\n",
       "      <td>0.073232</td>\n",
       "      <td>0.007790</td>\n",
       "      <td>0.098936</td>\n",
       "    </tr>\n",
       "    <tr>\n",
       "      <th>3</th>\n",
       "      <td>FEARec</td>\n",
       "      <td>0.072185</td>\n",
       "      <td>0.007455</td>\n",
       "      <td>0.098224</td>\n",
       "    </tr>\n",
       "    <tr>\n",
       "      <th>4</th>\n",
       "      <td>BSARec</td>\n",
       "      <td>0.072232</td>\n",
       "      <td>0.007455</td>\n",
       "      <td>0.098271</td>\n",
       "    </tr>\n",
       "  </tbody>\n",
       "</table>\n",
       "</div>"
      ],
      "text/plain": [
       "      model       EED       EEL       EER\n",
       "0    SASRec  0.077931  0.009433  0.101992\n",
       "1  BERT4Rec  0.074954  0.008384  0.100064\n",
       "2    DuoRec  0.073232  0.007790  0.098936\n",
       "3    FEARec  0.072185  0.007455  0.098224\n",
       "4    BSARec  0.072232  0.007455  0.098271"
      ]
     },
     "metadata": {},
     "output_type": "display_data"
    },
    {
     "data": {
      "image/png": "[encoded data removed]",
      "text/plain": [
       "<Figure size 1500x500 with 3 Axes>"
      ]
     },
     "metadata": {},
     "output_type": "display_data"
    }
   ],
   "source": [
    "sasrec_diginetica_fairness = ExposureFairness(sasrec_diginetica_user_and_predictions)\n",
    "bert4rec_diginetica_fairness = ExposureFairness(bert4rec_diginetica_user_and_predictions)\n",
    "duorec_diginetica_fairness = ExposureFairness(duorec_diginetica_user_and_predictions)\n",
    "fearec_diginetica_fairness = ExposureFairness(fearec_diginetica_user_and_predictions)\n",
    "bsarec_diginetica_fairness = ExposureFairness(bsarec_diginetica_user_and_predictions)\n",
    "\n",
    "diginetica_recommend_exposure = [\n",
    "    sasrec_diginetica_fairness,\n",
    "    bert4rec_diginetica_fairness,\n",
    "    duorec_diginetica_fairness,\n",
    "    fearec_diginetica_fairness,\n",
    "    bsarec_diginetica_fairness,\n",
    "]\n",
    "\n",
    "diginetica_eed = []\n",
    "diginetica_eel = []\n",
    "diginetica_eer = []\n",
    "for model in diginetica_recommend_exposure:\n",
    "    eed = model.eed(diginetica_category_map, diginetica, diginetica_data_maps.id2item)\n",
    "    diginetica_eed.append(eed)\n",
    "\n",
    "    eel = model.eel(diginetica_category_map, diginetica, diginetica_data_maps.id2item)\n",
    "    diginetica_eel.append(eel)\n",
    "\n",
    "    eer = model.eer(diginetica_category_map, diginetica, diginetica_data_maps.id2item)\n",
    "    diginetica_eer.append(eer)\n",
    "    \n",
    "diginetica_fairness_data = {\n",
    "    \"model\": names,\n",
    "    \"EED\": diginetica_eed,\n",
    "    \"EEL\": diginetica_eel,\n",
    "    \"EER\": diginetica_eer,\n",
    "}\n",
    "diginetica_fairness = pd.DataFrame(diginetica_fairness_data)\n",
    "display(diginetica_fairness)\n",
    "\n",
    "diginetica_visual_results = VisualFairnessResults(diginetica_fairness)\n",
    "diginetica_visual_results.metric_subplots()"
   ]
  }
 ],
 "metadata": {
  "kernelspec": {
   "display_name": "forked",
   "language": "python",
   "name": "python3"
  },
  "language_info": {
   "codemirror_mode": {
    "name": "ipython",
    "version": 3
   },
   "file_extension": ".py",
   "mimetype": "text/x-python",
   "name": "python",
   "nbconvert_exporter": "python",
   "pygments_lexer": "ipython3",
   "version": "3.9.21"
  }
 },
 "nbformat": 4,
 "nbformat_minor": 5
}
