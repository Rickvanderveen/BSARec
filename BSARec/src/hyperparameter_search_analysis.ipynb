{
 "cells": [
  {
   "cell_type": "code",
   "execution_count": 1,
   "id": "ffa2e467",
   "metadata": {},
   "outputs": [],
   "source": [
    "from pathlib import Path\n",
    "import os\n",
    "import re"
   ]
  },
  {
   "cell_type": "code",
   "execution_count": 2,
   "id": "0c51342f",
   "metadata": {},
   "outputs": [],
   "source": [
    "def read_last_line_from_file(path: Path):\n",
    "    with path.open('rb') as f:\n",
    "        try:  # catch OSError in case of a one line file \n",
    "            f.seek(-2, os.SEEK_END)\n",
    "            while f.read(1) != b'\\n':\n",
    "                f.seek(-2, os.SEEK_CUR)\n",
    "        except OSError:\n",
    "            f.seek(0)\n",
    "        last_line = f.readline().decode()\n",
    "        return last_line\n",
    "\n",
    "def read_first_line_from_file(path: Path):\n",
    "    with path.open(\"r\") as f:\n",
    "        return f.readline()"
   ]
  },
  {
   "cell_type": "code",
   "execution_count": 3,
   "id": "ac6f9669",
   "metadata": {},
   "outputs": [],
   "source": [
    "class HyperparameterRun:\n",
    "    def __init__(\n",
    "        self,\n",
    "        run_dir: Path,\n",
    "        log_file_name: str = \"out.log\",\n",
    "        model_name: str = \"model.pt\",\n",
    "    ):\n",
    "        if not run_dir.exists():\n",
    "            raise ValueError(f\"run_dir `{run_dir}` does not exit\")\n",
    "        if not run_dir.is_dir():\n",
    "            raise ValueError(f\"run_dir `{run_dir}` is not a directory\")\n",
    "        self.run_dir = run_dir\n",
    "        self.log_file_name = log_file_name\n",
    "        self.model_name = model_name\n",
    "\n",
    "    def model_path(self):\n",
    "        return self.run_dir / self.model_name\n",
    "\n",
    "    def validation_ndcg_20(self):\n",
    "        last_line = read_last_line_from_file(self.run_dir / self.log_file_name)\n",
    "\n",
    "        ndcg_20_match = re.search(r\"NDCG@20':\\s*'([\\d.]+)'\", last_line)\n",
    "\n",
    "        if ndcg_20_match:\n",
    "            ndcg_20 = float(ndcg_20_match.group(1))\n",
    "        else:\n",
    "            raise Exception(f\"NDCG@20 not found in last line of log file `{self.run_dir / self.log_file_name}`.\")\n",
    "\n",
    "        return ndcg_20\n",
    "\n",
    "    def run_args(self):\n",
    "        first_line = read_first_line_from_file(self.run_dir / self.log_file_name)\n",
    "        first_line = (\n",
    "            first_line.split(\"Namespace\", maxsplit=1)[1].strip().lstrip(\"(\").rstrip(\")\")\n",
    "        )\n",
    "        pattern = re.compile(r\"(\\w+)=((?:'[^']*')|(?:[^,]+))\")\n",
    "        args = {}\n",
    "\n",
    "        for key, value in pattern.findall(first_line):\n",
    "            args[key] = value\n",
    "\n",
    "        return args\n",
    "\n",
    "    def hyperparameters(self, hyperparameters: list[str]):\n",
    "        run_args = self.run_args()\n",
    "        return {key: value for key, value in run_args.items() if key in hyperparameters}\n",
    "\n",
    "\n",
    "class HyperparameterSearchRun:\n",
    "    def __init__(\n",
    "        self,\n",
    "        search_dir: Path,\n",
    "        log_file_name: str = \"out.log\",\n",
    "        model_name: str = \"model.pt\",\n",
    "    ):\n",
    "        self.search_dir = search_dir\n",
    "        self.log_file_name = log_file_name\n",
    "        self.model_name = model_name\n",
    "\n",
    "    def _get_runs(self) -> list[HyperparameterRun]:\n",
    "        return [\n",
    "            HyperparameterRun(item)\n",
    "            for item in self.search_dir.iterdir()\n",
    "            if item.is_dir()\n",
    "        ]\n",
    "\n",
    "    def number_of_runs(self) -> int:\n",
    "        return sum(1 for item in self.search_dir.iterdir() if item.is_dir())\n",
    "\n",
    "    def best_run(self):\n",
    "        runs = self._get_runs()\n",
    "\n",
    "        best_run_dir = None\n",
    "        best_ndcg_20 = -1\n",
    "\n",
    "        for run in runs:\n",
    "            new_ndcg_20 = run.validation_ndcg_20()\n",
    "            if new_ndcg_20 > best_ndcg_20:\n",
    "                best_ndcg_20 = new_ndcg_20\n",
    "                best_run_dir = run.run_dir\n",
    "\n",
    "        return best_run_dir\n"
   ]
  },
  {
   "cell_type": "code",
   "execution_count": 4,
   "id": "a75869a2",
   "metadata": {},
   "outputs": [],
   "source": [
    "def best_hparams(hparam_search_dir: Path, hparams: list[str]):\n",
    "    search = HyperparameterSearchRun(hparam_search_dir)\n",
    "    number_of_runs = search.number_of_runs()\n",
    "    best_run_dir = search.best_run()\n",
    "    best_run = HyperparameterRun(best_run_dir)\n",
    "\n",
    "    print(f\"Number of runs: {number_of_runs}\")\n",
    "    print(f\"Best run: {best_run.run_dir}\")\n",
    "    print(\"Best hyperparameters:\", best_run.hyperparameters(hparams))\n",
    "    print(\"Best Model path:\", best_run.model_path())"
   ]
  },
  {
   "cell_type": "code",
   "execution_count": 5,
   "id": "4bb38b82",
   "metadata": {},
   "outputs": [],
   "source": [
    "HPARAM_SEARCH_DIR = Path(\"hparam_search\")"
   ]
  },
  {
   "cell_type": "code",
   "execution_count": 6,
   "id": "9f8de279-e785-4926-af55-731844f27417",
   "metadata": {},
   "outputs": [],
   "source": [
    "HYPERPARAMETERS = [\"lr\", \"num_attention_heads\"]"
   ]
  },
  {
   "cell_type": "code",
   "execution_count": 7,
   "id": "65994fc2",
   "metadata": {},
   "outputs": [],
   "source": [
    "BERT4Rec_hyperparameters = HYPERPARAMETERS + [\"mask_ratio\"]\n",
    "DuoRec_hyperparameters = HYPERPARAMETERS + []\n",
    "SASRec_hyperparameters = HYPERPARAMETERS + []\n",
    "FEARec_hyperparameters = HYPERPARAMETERS + []\n",
    "BSARec_hyperparameters = HYPERPARAMETERS + [\"c\", \"alpha\"]"
   ]
  },
  {
   "cell_type": "markdown",
   "id": "77800170",
   "metadata": {},
   "source": [
    "## LastFM"
   ]
  },
  {
   "cell_type": "code",
   "execution_count": 8,
   "id": "c1405bbf",
   "metadata": {},
   "outputs": [
    {
     "name": "stdout",
     "output_type": "stream",
     "text": [
      "Number of runs: 18\n",
      "Best run: hparam_search/BERT4Rec_LastFM/12373134_5\n",
      "Best hyperparameters: {'lr': '0.001', 'num_attention_heads': '2', 'mask_ratio': '0.4'}\n",
      "Best Model path: hparam_search/BERT4Rec_LastFM/12373134_5/model.pt\n"
     ]
    }
   ],
   "source": [
    "best_hparams(HPARAM_SEARCH_DIR / \"BERT4Rec_LastFM\", BERT4Rec_hyperparameters)"
   ]
  },
  {
   "cell_type": "code",
   "execution_count": 9,
   "id": "7b3b5271-2986-4ef0-b2b1-cb8c3078c403",
   "metadata": {},
   "outputs": [
    {
     "name": "stdout",
     "output_type": "stream",
     "text": [
      "Number of runs: 6\n",
      "Best run: hparam_search/DuoRec_LastFM/12364640_3\n",
      "Best hyperparameters: {'lr': '0.001', 'num_attention_heads': '4'}\n",
      "Best Model path: hparam_search/DuoRec_LastFM/12364640_3/model.pt\n"
     ]
    }
   ],
   "source": [
    "best_hparams(HPARAM_SEARCH_DIR / \"DuoRec_LastFM\", DuoRec_hyperparameters)"
   ]
  },
  {
   "cell_type": "code",
   "execution_count": 10,
   "id": "461e0775-2e0f-46fa-8079-b8236e7b7fe6",
   "metadata": {},
   "outputs": [
    {
     "name": "stdout",
     "output_type": "stream",
     "text": [
      "Number of runs: 6\n",
      "Best run: hparam_search/SASRec_LastFM/12364634_3\n",
      "Best hyperparameters: {'lr': '0.001', 'num_attention_heads': '4'}\n",
      "Best Model path: hparam_search/SASRec_LastFM/12364634_3/model.pt\n"
     ]
    }
   ],
   "source": [
    "best_hparams(HPARAM_SEARCH_DIR / \"SASRec_LastFM\", SASRec_hyperparameters)"
   ]
  },
  {
   "cell_type": "code",
   "execution_count": 11,
   "id": "73adc188-67a4-4b8e-8645-6f8761686391",
   "metadata": {},
   "outputs": [
    {
     "name": "stdout",
     "output_type": "stream",
     "text": [
      "Number of runs: 6\n",
      "Best run: hparam_search/FEARec_LastFM/12364666_3\n",
      "Best hyperparameters: {'lr': '0.001', 'num_attention_heads': '4'}\n",
      "Best Model path: hparam_search/FEARec_LastFM/12364666_3/model.pt\n"
     ]
    }
   ],
   "source": [
    "best_hparams(HPARAM_SEARCH_DIR / \"FEARec_LastFM\", FEARec_hyperparameters)"
   ]
  },
  {
   "cell_type": "markdown",
   "id": "7ede13a8-ff57-44bd-a29d-3d94af0c16b8",
   "metadata": {},
   "source": [
    "## Diginetica"
   ]
  },
  {
   "cell_type": "code",
   "execution_count": 12,
   "id": "311acdec-6757-4818-bcff-eea9bacfdbf5",
   "metadata": {},
   "outputs": [
    {
     "name": "stdout",
     "output_type": "stream",
     "text": [
      "Number of runs: 18\n",
      "Best run: hparam_search/BERT4Rec_Diginetica/12362289_7\n",
      "Best hyperparameters: {'lr': '0.001', 'num_attention_heads': '4', 'mask_ratio': '0.2'}\n",
      "Best Model path: hparam_search/BERT4Rec_Diginetica/12362289_7/model.pt\n"
     ]
    }
   ],
   "source": [
    "best_hparams(HPARAM_SEARCH_DIR / \"BERT4Rec_Diginetica\", BERT4Rec_hyperparameters)"
   ]
  },
  {
   "cell_type": "code",
   "execution_count": 13,
   "id": "48aade67-2062-4994-8bc8-9053a26024b1",
   "metadata": {},
   "outputs": [
    {
     "name": "stdout",
     "output_type": "stream",
     "text": [
      "Number of runs: 6\n",
      "Best run: hparam_search/DuoRec_Diginetica/12364443_3\n",
      "Best hyperparameters: {'lr': '0.001', 'num_attention_heads': '4'}\n",
      "Best Model path: hparam_search/DuoRec_Diginetica/12364443_3/model.pt\n"
     ]
    }
   ],
   "source": [
    "best_hparams(HPARAM_SEARCH_DIR / \"DuoRec_Diginetica\", DuoRec_hyperparameters)"
   ]
  },
  {
   "cell_type": "code",
   "execution_count": 14,
   "id": "0489613d-7e63-4d1f-b8df-0c53391f3644",
   "metadata": {},
   "outputs": [
    {
     "name": "stdout",
     "output_type": "stream",
     "text": [
      "Number of runs: 6\n",
      "Best run: hparam_search/SASRec_Diginetica/12362200_4\n",
      "Best hyperparameters: {'lr': '0.0005', 'num_attention_heads': '1'}\n",
      "Best Model path: hparam_search/SASRec_Diginetica/12362200_4/model.pt\n"
     ]
    }
   ],
   "source": [
    "best_hparams(HPARAM_SEARCH_DIR / \"SASRec_Diginetica\", SASRec_hyperparameters)"
   ]
  },
  {
   "cell_type": "code",
   "execution_count": 15,
   "id": "9650dd25-5ca2-4743-bdb3-91ddea144d7b",
   "metadata": {},
   "outputs": [
    {
     "name": "stdout",
     "output_type": "stream",
     "text": [
      "Number of runs: 6\n",
      "Best run: hparam_search/FEARec_Diginetica/12373668_1\n",
      "Best hyperparameters: {'lr': '0.001', 'num_attention_heads': '1'}\n",
      "Best Model path: hparam_search/FEARec_Diginetica/12373668_1/model.pt\n"
     ]
    }
   ],
   "source": [
    "best_hparams(HPARAM_SEARCH_DIR / \"FEARec_Diginetica\", FEARec_hyperparameters)"
   ]
  },
  {
   "cell_type": "code",
   "execution_count": 16,
   "id": "c71191d6-8c73-471a-ad5e-beb75bb66838",
   "metadata": {},
   "outputs": [
    {
     "name": "stdout",
     "output_type": "stream",
     "text": [
      "Number of runs: 150\n",
      "Best run: hparam_search/BSARec_Diginetica/12367757_143\n",
      "Best hyperparameters: {'lr': '0.0005', 'num_attention_heads': '4', 'c': '7', 'alpha': '0.5'}\n",
      "Best Model path: hparam_search/BSARec_Diginetica/12367757_143/model.pt\n"
     ]
    }
   ],
   "source": [
    "best_hparams(HPARAM_SEARCH_DIR / \"BSARec_Diginetica\", BSARec_hyperparameters)"
   ]
  }
 ],
 "metadata": {
  "kernelspec": {
   "display_name": "Python 3 (ipykernel)",
   "language": "python",
   "name": "python3"
  },
  "language_info": {
   "codemirror_mode": {
    "name": "ipython",
    "version": 3
   },
   "file_extension": ".py",
   "mimetype": "text/x-python",
   "name": "python",
   "nbconvert_exporter": "python",
   "pygments_lexer": "ipython3",
   "version": "3.11.3"
  }
 },
 "nbformat": 4,
 "nbformat_minor": 5
}
