{
 "cells": [
  {
   "cell_type": "code",
   "execution_count": 90,
   "id": "6a707142",
   "metadata": {},
   "outputs": [],
   "source": [
    "from collections import Counter\n",
    "from pathlib import Path\n",
    "\n",
    "import numpy as np\n",
    "import pandas as pd\n",
    "from scipy.stats import entropy"
   ]
  },
  {
   "cell_type": "code",
   "execution_count": 91,
   "id": "54c4b84d",
   "metadata": {},
   "outputs": [],
   "source": [
    "PROJECT_ROOT = Path()\n",
    "DATA_DIR = PROJECT_ROOT / \"data\""
   ]
  },
  {
   "cell_type": "code",
   "execution_count": 92,
   "id": "dbe7a684",
   "metadata": {},
   "outputs": [],
   "source": [
    "def load_preprocessed_dataset(data_path: Path) -> dict[int, list[int]]:\n",
    "    data = {}\n",
    "    with data_path.open(\"r\", encoding=\"utf-8\", newline=\"\") as file:\n",
    "        for line in file:\n",
    "            user, items = line.split(\" \", maxsplit=1)\n",
    "            user = int(user)\n",
    "            items = items.split(\" \")\n",
    "            items = list(map(lambda item: int(item.strip()), items))\n",
    "            assert user not in data, \"User should not exist twice in the dictionary\"\n",
    "            data[user] = items\n",
    "    return data"
   ]
  },
  {
   "cell_type": "code",
   "execution_count": 93,
   "id": "181836cf",
   "metadata": {},
   "outputs": [],
   "source": [
    "lastfm = load_preprocessed_dataset(DATA_DIR / \"LastFM.txt\")\n",
    "diginetica = load_preprocessed_dataset(DATA_DIR / \"self_processed\" / \"Diginetica.txt\")"
   ]
  },
  {
   "cell_type": "code",
   "execution_count": 94,
   "id": "2ca1c6b8",
   "metadata": {},
   "outputs": [],
   "source": [
    "def dataset_statistics(dataset) -> pd.DataFrame:\n",
    "    num_users = len(dataset.keys())\n",
    "    assert num_users == len(set(dataset.keys()))\n",
    "    \n",
    "    sequences = dataset.values()\n",
    "\n",
    "    interactions = 0\n",
    "    unique_items = set()\n",
    "    full_history = []\n",
    "\n",
    "    for sequence in sequences:\n",
    "        interactions += len(sequence)\n",
    "        unique_items = unique_items | set(sequence)\n",
    "        full_history.extend(sequence)\n",
    "\n",
    "    num_items = len(unique_items)\n",
    "\n",
    "    items_counter = Counter(full_history)\n",
    "    item_counts = np.array(list(items_counter.values()))\n",
    "    item_probability = item_counts / np.sum(item_counts)\n",
    "    entropy_ = entropy(item_probability)\n",
    "\n",
    "    \n",
    "    print(f\"# Users: {num_users:,}\")\n",
    "    print(f\"# Items: {num_items:,}\")\n",
    "    print(f\"# Interactions: {interactions:,}\")\n",
    "    print(f\"Avg. Length: {interactions / num_users}\")\n",
    "    print(f\"Entropy: {entropy_}\")"
   ]
  },
  {
   "cell_type": "code",
   "execution_count": 95,
   "id": "b927d407",
   "metadata": {},
   "outputs": [
    {
     "name": "stdout",
     "output_type": "stream",
     "text": [
      "========== LastFM ==========\n",
      "# Users: 1,090\n",
      "# Items: 3,646\n",
      "# Interactions: 52,551\n",
      "Avg. Length: 48.21192660550459\n",
      "Entropy: 7.829465158473123\n"
     ]
    }
   ],
   "source": [
    "print(\"========== LastFM ==========\")\n",
    "dataset_statistics(lastfm)"
   ]
  },
  {
   "cell_type": "code",
   "execution_count": 97,
   "id": "2b298948",
   "metadata": {},
   "outputs": [
    {
     "name": "stdout",
     "output_type": "stream",
     "text": [
      "========== Diginetica ==========\n",
      "# Users: 14,828\n",
      "# Items: 9,440\n",
      "# Interactions: 119,918\n",
      "Avg. Length: 8.087267332074454\n",
      "Entropy: 8.848976561658453\n"
     ]
    }
   ],
   "source": [
    "print(\"========== Diginetica ==========\")\n",
    "dataset_statistics(diginetica)"
   ]
  }
 ],
 "metadata": {
  "kernelspec": {
   "display_name": "forked",
   "language": "python",
   "name": "python3"
  },
  "language_info": {
   "codemirror_mode": {
    "name": "ipython",
    "version": 3
   },
   "file_extension": ".py",
   "mimetype": "text/x-python",
   "name": "python",
   "nbconvert_exporter": "python",
   "pygments_lexer": "ipython3",
   "version": "3.9.21"
  }
 },
 "nbformat": 4,
 "nbformat_minor": 5
}
