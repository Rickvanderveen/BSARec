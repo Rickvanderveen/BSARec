{
 "cells": [
  {
   "cell_type": "code",
   "execution_count": 101,
   "id": "bbabeaa5",
   "metadata": {},
   "outputs": [],
   "source": [
    "from collections import Counter\n",
    "import csv\n",
    "from itertools import chain\n",
    "import json\n",
    "import math\n",
    "from pathlib import Path\n",
    "from typing import Callable, Union\n",
    "\n",
    "import matplotlib.pyplot as plt\n",
    "import numpy as np\n",
    "import pandas as pd\n",
    "\n",
    "from dataset import DataMaps\n",
    "from metrics import recall_at_k, ndcg_k"
   ]
  },
  {
   "cell_type": "code",
   "execution_count": 102,
   "id": "dc6016c0",
   "metadata": {},
   "outputs": [],
   "source": [
    "def prediction_str2prediction_list(string: str, sep: str = \", \"):\n",
    "    return string.split(sep)"
   ]
  },
  {
   "cell_type": "code",
   "execution_count": 103,
   "id": "5d38077a",
   "metadata": {},
   "outputs": [],
   "source": [
    "PROJECT_ROOT = Path()\n",
    "PREDICTION_DIR = PROJECT_ROOT / \"output\" / \"predictions\"\n",
    "RATINGS_DIR = PROJECT_ROOT / \"output\" / \"ratings\"\n",
    "DATA_DIR = PROJECT_ROOT / \"data\"\n",
    "CATEGORY_MAP_DIR = DATA_DIR / \"category_maps\"\n",
    "DATA_MAP_DIR = DATA_DIR / \"self_processed\" / \"data_maps\"\n",
    "RAW_DATA_DIR = DATA_DIR / \"raw\""
   ]
  },
  {
   "cell_type": "code",
   "execution_count": 104,
   "id": "0b61feb6",
   "metadata": {},
   "outputs": [],
   "source": [
    "# The paths to the category maps e.g. \"artist 1\" -> \"Rock\"\n",
    "lastfm_category_map_path = CATEGORY_MAP_DIR / \"LastFM\" / \"artist_category_mapping.json\"\n",
    "lastfm_popularity_map_path = CATEGORY_MAP_DIR / \"LastFM\" / \"artist_popularity_mapping.json\"\n",
    "\n",
    "ml1m_category_map_path = CATEGORY_MAP_DIR / \"ml-1m\" / \"movie_category_mapping.json\"\n",
    "\n",
    "diginetica_category_map_path = CATEGORY_MAP_DIR / \"Diginetica\" / \"product_category_mapping.json\"\n",
    "diginetica_popularity_map_path = CATEGORY_MAP_DIR / \"Diginetica\" / \"product_popularity_mapping.json\"\n",
    "\n",
    "def load_category_map(path: Path):\n",
    "    \"\"\"Load a category map from a path.\n",
    "    \n",
    "    Returns a dict with the mapping from item2category. Can be single and multiple categories.\n",
    "    \"\"\"\n",
    "    with path.open(\"r\", newline=\"\", encoding=\"utf-8\") as file:\n",
    "        return json.load(file)"
   ]
  },
  {
   "cell_type": "code",
   "execution_count": 105,
   "id": "faf0c6e7",
   "metadata": {},
   "outputs": [],
   "source": [
    "lastfm_data_maps_path = DATA_MAP_DIR / \"LastFM_maps.json\"  "
   ]
  },
  {
   "cell_type": "code",
   "execution_count": 106,
   "id": "6478a0da",
   "metadata": {},
   "outputs": [],
   "source": [
    "def load_predictions(prediction_path: Path, prediction_id2item_id: Callable) -> list[list[Union[str, int]]]:\n",
    "    users_item_id_predictions = pd.read_csv(prediction_path)\n",
    "    users_item_id_predictions[\"item_id_predictions\"] = users_item_id_predictions[\"item_id_predictions\"].apply(prediction_str2prediction_list)\n",
    "    item_predictions = users_item_id_predictions[\"item_id_predictions\"].apply(lambda sequence: list(map(prediction_id2item_id, sequence)))\n",
    "    return list(item_predictions)\n",
    "\n",
    "def load_user_and_predictions(prediction_path: Path) -> dict[int, list]:\n",
    "    users_item_id_predictions = pd.read_csv(prediction_path)\n",
    "    # Transform the prediction from 1 string to a list of predicted items\n",
    "    users_item_id_predictions[\"item_id_predictions\"] = users_item_id_predictions[\"item_id_predictions\"].apply(prediction_str2prediction_list)\n",
    "    # Transform items in the list from string to int\n",
    "    users_item_id_predictions[\"item_id_predictions\"] = users_item_id_predictions[\"item_id_predictions\"].apply(lambda x: [int(item) for item in x])\n",
    "    return {row.user_id: row.item_id_predictions for row in users_item_id_predictions.itertuples()}"
   ]
  },
  {
   "cell_type": "code",
   "execution_count": 107,
   "id": "6e2e110d",
   "metadata": {},
   "outputs": [],
   "source": [
    "def load_raw_diginetica() -> pd.DataFrame:\n",
    "    data_path = RAW_DATA_DIR / \"Diginetica\" / \"diginetica_train.csv\"\n",
    "    df = pd.read_csv(data_path, delimiter=\";\", header=0, names=[\"userId\", \"itemId\", \"timeframe\", \"eventdate\"])\n",
    "\n",
    "    # Drop all users which are nan\n",
    "    df = df.dropna(subset=[\"userId\", \"itemId\", \"timeframe\", \"eventdate\"])\n",
    "    \n",
    "    return df\n",
    "\n",
    "def load_preprocessed_dataset(data_path: Path) -> dict[int, list[int]]:\n",
    "    data = {}\n",
    "    with data_path.open(\"r\", encoding=\"utf-8\", newline=\"\") as file:\n",
    "        for line in file:\n",
    "            user, items = line.split(\" \", maxsplit=1)\n",
    "            user = int(user)\n",
    "            items = items.split(\" \")\n",
    "            items = list(map(lambda item: int(item.strip()), items))\n",
    "            assert user not in data, \"User should not exist twice in the dictionary\"\n",
    "            data[user] = items\n",
    "    return data"
   ]
  },
  {
   "cell_type": "code",
   "execution_count": 108,
   "id": "3b17fd64",
   "metadata": {},
   "outputs": [],
   "source": [
    "# Load LastFM data maps\n",
    "lastfm_data_maps = DataMaps.read_json(lastfm_data_maps_path)\n",
    "\n",
    "# Load lastfm artist -> popularity map\n",
    "artist_popularity_map = load_category_map(lastfm_popularity_map_path)"
   ]
  },
  {
   "cell_type": "code",
   "execution_count": 109,
   "id": "a0088383",
   "metadata": {},
   "outputs": [],
   "source": [
    "bsarec_lastfm_ratings = np.load(RATINGS_DIR / \"BSARec_LastFM_ratings.npy\")\n",
    "bsarec_lastfm_ratings = bsarec_lastfm_ratings[:, :-1]"
   ]
  },
  {
   "cell_type": "code",
   "execution_count": 110,
   "id": "c81a3081",
   "metadata": {},
   "outputs": [
    {
     "data": {
      "text/plain": [
       "(1090, 3646)"
      ]
     },
     "execution_count": 110,
     "metadata": {},
     "output_type": "execute_result"
    }
   ],
   "source": [
    "bsarec_lastfm_ratings.shape"
   ]
  },
  {
   "cell_type": "code",
   "execution_count": 111,
   "id": "6d0a6207",
   "metadata": {},
   "outputs": [],
   "source": [
    "n_items = bsarec_lastfm_ratings.shape[1]\n",
    "n_categories = len(set(artist_popularity_map.values()))\n",
    "categories = sorted(set(artist_popularity_map.values()))\n",
    "\n",
    "M = np.zeros((n_items, n_categories), int)\n",
    "\n",
    "for item_idx in range(n_items):\n",
    "    item_id = lastfm_data_maps.id2item(item_idx + 1)\n",
    "    item_category = artist_popularity_map[str(item_id)]\n",
    "    category_idx = categories.index(item_category)\n",
    "    M[item_idx, category_idx] = 1\n",
    "\n",
    "assert np.all(M.sum(axis=1) == 1)"
   ]
  },
  {
   "cell_type": "code",
   "execution_count": 112,
   "id": "f1bf0c25",
   "metadata": {},
   "outputs": [],
   "source": [
    "n_users = len(bsarec_lastfm_ratings)\n",
    "\n",
    "rerank_list = []\n",
    "B_l = np.zeros(n_categories)\n",
    "k = 20\n",
    "\n",
    "lambda_ = 0.5\n",
    "for user_idx in range(n_users):\n",
    "    minimax_reg = lambda_ * np.matmul(M, 1 - (B_l / (np.sum(B_l) + 1e-5)))\n",
    "    rel = bsarec_lastfm_ratings[user_idx, :] + minimax_reg\n",
    "    result_item = np.argsort(rel)[::-1]\n",
    "    result_item = result_item[:k]\n",
    "    rerank_list.append(result_item)\n",
    "    B_l = B_l + np.sum(M[result_item, :], axis=0, keepdims=False)"
   ]
  },
  {
   "cell_type": "code",
   "execution_count": 113,
   "id": "d1128276",
   "metadata": {},
   "outputs": [
    {
     "name": "stdout",
     "output_type": "stream",
     "text": [
      "Saved predictions in `output/predictions/BSARec_LastFM_cpair_predictions.csv`\n"
     ]
    }
   ],
   "source": [
    "pred_path = str(PREDICTION_DIR / \"BSARec_LastFM_cpair_predictions.csv\")\n",
    "with open(pred_path, \"w\", newline=\"\", encoding=\"utf-8\") as f:\n",
    "    writer = csv.DictWriter(f, fieldnames=[\"user_id\", \"item_id_predictions\"])\n",
    "    writer.writeheader()\n",
    "    for idx, pred in enumerate(rerank_list):\n",
    "        # f.write(f\"User {idx}: {pred.tolist()}\\n\")\n",
    "        writer.writerow(\n",
    "            {\"user_id\": idx, \"item_id_predictions\": \", \".join(map(str, pred))}\n",
    "        )\n",
    "    print(f\"Saved predictions in `{pred_path}`\")"
   ]
  },
  {
   "cell_type": "code",
   "execution_count": 114,
   "id": "a321d4c1",
   "metadata": {},
   "outputs": [],
   "source": [
    "def get_full_sort_score(answers, pred_list):\n",
    "    recall, ndcg = [], []\n",
    "    for k in [5, 10, 15, 20]:\n",
    "        recall.append(recall_at_k(answers, pred_list, k))\n",
    "        ndcg.append(ndcg_k(answers, pred_list, k))\n",
    "    post_fix = {\n",
    "        \"HR@5\": \"{:.4f}\".format(recall[0]),\n",
    "        \"NDCG@5\": \"{:.4f}\".format(ndcg[0]),\n",
    "        \"HR@10\": \"{:.4f}\".format(recall[1]),\n",
    "        \"NDCG@10\": \"{:.4f}\".format(ndcg[1]),\n",
    "        \"HR@20\": \"{:.4f}\".format(recall[3]),\n",
    "        \"NDCG@20\": \"{:.4f}\".format(ndcg[3]),\n",
    "    }\n",
    "    return post_fix"
   ]
  },
  {
   "cell_type": "code",
   "execution_count": 115,
   "id": "d48653e8",
   "metadata": {},
   "outputs": [],
   "source": [
    "lastfm = load_preprocessed_dataset(DATA_DIR / \"LastFM.txt\")\n",
    "answers = list(map(lambda items: items[-1], lastfm.values()))"
   ]
  },
  {
   "cell_type": "code",
   "execution_count": 116,
   "id": "87e25a5f",
   "metadata": {},
   "outputs": [
    {
     "data": {
      "text/plain": [
       "{'HR@5': '0.0514',\n",
       " 'NDCG@5': '0.0337',\n",
       " 'HR@10': '0.0734',\n",
       " 'NDCG@10': '0.0407',\n",
       " 'HR@20': '0.1110',\n",
       " 'NDCG@20': '0.0501'}"
      ]
     },
     "execution_count": 116,
     "metadata": {},
     "output_type": "execute_result"
    }
   ],
   "source": [
    "get_full_sort_score(answers, rerank_list)"
   ]
  }
 ],
 "metadata": {
  "kernelspec": {
   "display_name": "forked",
   "language": "python",
   "name": "python3"
  },
  "language_info": {
   "codemirror_mode": {
    "name": "ipython",
    "version": 3
   },
   "file_extension": ".py",
   "mimetype": "text/x-python",
   "name": "python",
   "nbconvert_exporter": "python",
   "pygments_lexer": "ipython3",
   "version": "3.9.21"
  }
 },
 "nbformat": 4,
 "nbformat_minor": 5
}
