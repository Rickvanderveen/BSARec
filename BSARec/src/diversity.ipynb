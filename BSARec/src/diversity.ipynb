{
 "cells": [
  {
   "cell_type": "code",
   "execution_count": 11,
   "id": "8eb2452b",
   "metadata": {},
   "outputs": [],
   "source": [
    "from collections import Counter\n",
    "from itertools import chain\n",
    "import json\n",
    "import math\n",
    "from pathlib import Path\n",
    "from typing import Callable, Union\n",
    "\n",
    "import pandas as pd\n",
    "\n",
    "from dataset import DataMaps"
   ]
  },
  {
   "cell_type": "code",
   "execution_count": 12,
   "id": "7ceca017",
   "metadata": {},
   "outputs": [],
   "source": [
    "def compute_entropy(category_counts):\n",
    "    \"\"\"\n",
    "    Computes the entropy of a category distribution.\n",
    "\n",
    "    Args:\n",
    "        category_counts (dict): A dictionary with category names as keys and their counts as values.\n",
    "\n",
    "    Returns:\n",
    "        float: The entropy value.\n",
    "    \"\"\"\n",
    "    total = sum(category_counts.values())\n",
    "    entropy = 0.0\n",
    "\n",
    "    for count in category_counts.values():\n",
    "        if count == 0:\n",
    "            continue\n",
    "        p_i = count / total\n",
    "        entropy -= p_i * math.log2(p_i)\n",
    "\n",
    "    return entropy\n",
    "\n",
    "\n",
    "def entropy_of_predictions(\n",
    "    predictions_of_users: list[list[str]],\n",
    "    category_map: dict[str, str],\n",
    "    top_k: int = 6,\n",
    "    *,\n",
    "    multi_category: bool = False,\n",
    "):\n",
    "    \"\"\"\n",
    "    Computes the entropy of ranked predictions averaged over multiple users.\n",
    "\n",
    "    Args:\n",
    "        predictions_of_users (list[list[str]]): A list of users that each have a list of \n",
    "            predicted items as strings.\n",
    "\n",
    "        category_map (dict[str, str]): A dictionary with the mapping item2category.\n",
    "            Can be single and multi category.\n",
    "\n",
    "        top_k (int): The number of highest ranked predictions that are used.\n",
    "\n",
    "        multi_category (bool): Whether an item (a prediction) has multiple categories.\n",
    "\n",
    "    Returns:\n",
    "        float: The average entropy.\n",
    "    \"\"\"\n",
    "    total_entropy = 0\n",
    "\n",
    "    for user_predicition in predictions_of_users:\n",
    "        # Only keep the top k predictions\n",
    "        top_predictions = user_predicition[:top_k]\n",
    "        # Transform the predicted ids to the actual categories\n",
    "        categories_of_user_predictions = map(\n",
    "            lambda item_id: category_map[str(item_id)], top_predictions\n",
    "        )\n",
    "\n",
    "        if multi_category:\n",
    "            categories_of_user_predictions = list(\n",
    "                chain.from_iterable(categories_of_user_predictions)\n",
    "            )\n",
    "\n",
    "        category_counter = Counter(categories_of_user_predictions)\n",
    "        entropy = compute_entropy(category_counter)\n",
    "        total_entropy += entropy\n",
    "\n",
    "    avg_entropy = total_entropy / len(predictions_of_users)\n",
    "\n",
    "    # TODO: Remove this and put it somewhere else. Not in this function\n",
    "    print(f\"Average Entropy for Top-{top_k} recommendations: {avg_entropy}\")\n",
    "    return avg_entropy"
   ]
  },
  {
   "cell_type": "code",
   "execution_count": 13,
   "id": "dc28cdf5",
   "metadata": {},
   "outputs": [],
   "source": [
    "def prediction_str2prediction_list(string: str, sep: str = \", \"):\n",
    "    return string.split(sep)"
   ]
  },
  {
   "cell_type": "code",
   "execution_count": 14,
   "id": "ec9425d3",
   "metadata": {},
   "outputs": [],
   "source": [
    "PROJECT_ROOT = Path()\n",
    "PREDICTION_DIR = PROJECT_ROOT / \"output\" / \"predictions\"\n",
    "CATEGORY_MAP_DIR = PROJECT_ROOT / \"data\" / \"category_maps\"\n",
    "DATA_MAP_DIR = PROJECT_ROOT / \"data\" / \"self_processed\" / \"data_maps\""
   ]
  },
  {
   "cell_type": "code",
   "execution_count": 15,
   "id": "088c4c23",
   "metadata": {},
   "outputs": [],
   "source": [
    "# All paths to the saved predictions\n",
    "bsarec_beauty_predictions_path = PREDICTION_DIR / \"BSARec_Beauty_best_predictions.csv\"\n",
    "bsarec_ml1m_predictions_path = PREDICTION_DIR / \"BSARec_ML-1M_predictions.csv\"\n",
    "\n",
    "sasrec_lastfm_predictions_path = PREDICTION_DIR / \"SASRec_LastFM_predictions.csv\"\n",
    "bert4rec_lastfm_predictions_path = PREDICTION_DIR / \"BERT4Rec_LastFM_predictions.csv\"\n",
    "duorec_lastfm_predictions_path = PREDICTION_DIR / \"DuoRec_LastFM_predictions.csv\"\n",
    "fearec_lastfm_predictions_path = PREDICTION_DIR / \"FEARec_LastFM_predictions.csv\"\n",
    "bsarec_lastfm_predictions_path = PREDICTION_DIR / \"BSARec_LastFM_predictions.csv\""
   ]
  },
  {
   "cell_type": "code",
   "execution_count": 16,
   "id": "15429c88",
   "metadata": {},
   "outputs": [],
   "source": [
    "# The paths to the category maps e.g. \"artist 1\" -> \"Rock\"\n",
    "lastfm_category_map_path = CATEGORY_MAP_DIR / \"LastFM\" / \"artist_category_mapping.json\"\n",
    "ml1m_category_map_path = CATEGORY_MAP_DIR / \"ml-1m\" / \"movie_category_mapping.json\"\n",
    "\n",
    "def load_category_map(path: Path):\n",
    "    \"\"\"Load a category map from a path.\n",
    "    \n",
    "    Returns a dict with the mapping from item2category. Can be single and multiple categories.\n",
    "    \"\"\"\n",
    "    with path.open(\"r\", newline=\"\", encoding=\"utf-8\") as file:\n",
    "        return json.load(file)"
   ]
  },
  {
   "cell_type": "code",
   "execution_count": 17,
   "id": "d846a274",
   "metadata": {},
   "outputs": [],
   "source": [
    "# The data maps are the user2id, id2user, item2id, id2item for each dataset\n",
    "beauty_data_maps_path = DATA_MAP_DIR / \"Beauty_maps.json\"\n",
    "ml1m_data_maps_path = DATA_MAP_DIR / \"ML-1M_maps.json\"\n",
    "lastfm_data_maps_path = DATA_MAP_DIR / \"LastFM_maps.json\"    "
   ]
  },
  {
   "cell_type": "code",
   "execution_count": 18,
   "id": "68de22bf",
   "metadata": {},
   "outputs": [],
   "source": [
    "def load_predictions(prediction_path: Path, prediction_id2item_id: Callable) -> list[list[Union[str, int]]]:\n",
    "    users_item_id_predictions = pd.read_csv(prediction_path)\n",
    "    users_item_id_predictions[\"item_id_predictions\"] = users_item_id_predictions[\"item_id_predictions\"].apply(prediction_str2prediction_list)\n",
    "    item_predictions = users_item_id_predictions[\"item_id_predictions\"].apply(lambda sequence: list(map(prediction_id2item_id, sequence)))\n",
    "    return list(item_predictions)"
   ]
  },
  {
   "cell_type": "markdown",
   "id": "4825a285",
   "metadata": {},
   "source": [
    "### Dataset: LastFM"
   ]
  },
  {
   "cell_type": "code",
   "execution_count": 20,
   "id": "913f24ab",
   "metadata": {},
   "outputs": [],
   "source": [
    "# Load LastFM data maps\n",
    "lastfm_data_maps = DataMaps.read_json(lastfm_data_maps_path)\n",
    "\n",
    "# Load lastfm artist -> genre map\n",
    "artist_category_map = load_category_map(lastfm_category_map_path)\n",
    "\n",
    "# Load predictions from specific models\n",
    "sasrec_artist_id_predictions = load_predictions(sasrec_lastfm_predictions_path, lastfm_data_maps.id2item)\n",
    "bert4rec_artist_id_predictions = load_predictions(bert4rec_lastfm_predictions_path, lastfm_data_maps.id2item)\n",
    "duorec_artist_id_predictions = load_predictions(duorec_lastfm_predictions_path, lastfm_data_maps.id2item)\n",
    "fearec_artist_id_predictions = load_predictions(fearec_lastfm_predictions_path, lastfm_data_maps.id2item)\n",
    "bsarec_artist_id_predictions = load_predictions(bsarec_lastfm_predictions_path, lastfm_data_maps.id2item)\n"
   ]
  },
  {
   "cell_type": "code",
   "execution_count": 33,
   "id": "20a28df2",
   "metadata": {},
   "outputs": [
    {
     "name": "stdout",
     "output_type": "stream",
     "text": [
      "SASRec  : Average Entropy for Top-6 recommendations: 1.1529278254465163\n",
      "BERT4Rec: Average Entropy for Top-6 recommendations: 1.1072985660877441\n",
      "DuoRec  : Average Entropy for Top-6 recommendations: 1.2877944061831739\n",
      "FEARec  : Average Entropy for Top-6 recommendations: 1.1707431976214442\n",
      "BSARec  : Average Entropy for Top-6 recommendations: 1.2099782541054578\n"
     ]
    }
   ],
   "source": [
    "\n",
    "print(\"SASRec\".ljust(8) + \": \", end=\"\")\n",
    "_ = entropy_of_predictions(sasrec_artist_id_predictions, artist_category_map)\n",
    "print(\"BERT4Rec\".ljust(8) + \": \", end=\"\")\n",
    "_ = entropy_of_predictions(bert4rec_artist_id_predictions, artist_category_map)\n",
    "print(\"DuoRec\".ljust(8) + \": \", end=\"\")\n",
    "_ = entropy_of_predictions(duorec_artist_id_predictions, artist_category_map)\n",
    "print(\"FEARec\".ljust(8) + \": \", end=\"\")\n",
    "_ = entropy_of_predictions(fearec_artist_id_predictions, artist_category_map)\n",
    "print(\"BSARec\".ljust(8) + \": \", end=\"\")\n",
    "_ = entropy_of_predictions(bsarec_artist_id_predictions, artist_category_map)"
   ]
  },
  {
   "cell_type": "markdown",
   "id": "b741fc51",
   "metadata": {},
   "source": [
    "### Dataset: ML-1M"
   ]
  },
  {
   "cell_type": "code",
   "execution_count": 49,
   "id": "57593e3a",
   "metadata": {},
   "outputs": [],
   "source": [
    "# Load ML-1M data maps\n",
    "ml1m_data_maps = DataMaps.read_json(ml1m_data_maps_path)\n",
    "\n",
    "# Load ML-1M movie -> genres map\n",
    "movie_category_map = load_category_map(ml1m_category_map_path)\n",
    "\n",
    "\n",
    "# Load predictions from specific models\n",
    "sasrec_movie_id_predictions = ...\n",
    "bert4rec_movie_id_predictions = ...\n",
    "duorec_movie_id_predictions = ...\n",
    "fearec_movie_id_predictions = ...\n",
    "bsarec_movie_id_predictions = load_predictions(bsarec_ml1m_predictions_path, ml1m_data_maps.id2item)"
   ]
  },
  {
   "cell_type": "code",
   "execution_count": 50,
   "id": "8aceef4e",
   "metadata": {},
   "outputs": [
    {
     "name": "stdout",
     "output_type": "stream",
     "text": [
      "Average Entropy for Top-6 recommendations: 2.0451340462138994\n"
     ]
    }
   ],
   "source": [
    "_ = entropy_of_predictions(bsarec_movie_id_predictions, movie_category_map, multi_category=True)"
   ]
  }
 ],
 "metadata": {
  "kernelspec": {
   "display_name": "bsarec",
   "language": "python",
   "name": "python3"
  },
  "language_info": {
   "codemirror_mode": {
    "name": "ipython",
    "version": 3
   },
   "file_extension": ".py",
   "mimetype": "text/x-python",
   "name": "python",
   "nbconvert_exporter": "python",
   "pygments_lexer": "ipython3",
   "version": "3.9.18"
  }
 },
 "nbformat": 4,
 "nbformat_minor": 5
}
